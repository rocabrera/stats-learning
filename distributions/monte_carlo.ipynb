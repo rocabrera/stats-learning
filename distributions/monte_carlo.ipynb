{
 "cells": [
  {
   "cell_type": "code",
   "execution_count": 1,
   "metadata": {},
   "outputs": [],
   "source": [
    "import pandas as pd\n",
    "import numpy as np\n",
    "import matplotlib.pyplot as plt"
   ]
  },
  {
   "cell_type": "markdown",
   "metadata": {},
   "source": [
    "**Expected Value:**\n",
    "\n",
    "$$\n",
    "E[X] = \\sum_i x_i P(x_i) \n",
    "$$\n",
    "\n",
    "Where:\n",
    "- $x_i$ is the values $X$ takes.\n",
    "- $p(x_i)$ is the probability that $X$ takes the value $x_i$.\n",
    "\n",
    "**Variance:**\n",
    "\n",
    "$$\n",
    "Var[X] = E[X^2] – m^2\n",
    "$$\n",
    "\n",
    "Where:\n",
    "\n",
    "- $m$ is the $E[X]$\n",
    "\n",
    "---"
   ]
  },
  {
   "cell_type": "markdown",
   "metadata": {},
   "source": [
    "**Roulette:**\n",
    "\n",
    "Let $X = \\{1..36\\}$ be a random variable where $\\forall x, x_i \\in X | P(x_i)=\\frac{1}{36}$ and $f(x)$ a  victory function, given by ($amt$ and $x_{bet}$ are fixed values):\n",
    "\n",
    "$$\n",
    "f(x)= \n",
    "\\begin{cases}\n",
    "    36*amt,  & \\text{if } x_{bet} = x \\\\\n",
    "    -amt,    & \\text{otherwise}\n",
    "\\end{cases}\n",
    "$$\n",
    "\n",
    "\n",
    "How much money would you expected to receive playing infinite games in this roulette? In order to answer this question we must calculate the expected value of $X$ given a bet in a specific number ($x_k \\in X$):\n",
    "\n",
    "$$\n",
    "E[f(X)] = \\sum_{i=1}^{36} f(x_i)*P(x_i) =  (-amt)(\\frac{1}{36})\\sum_{i \\neq k}^{35}1 + (36*amt)(\\frac{1}{36}) = 0\n",
    "$$\n",
    "\n",
    "What do you think about the risk of playing one game? The variance may help you to answer this question.\n",
    "\n",
    "$$\n",
    "Var[f(X)] = E[f(X)^2] – E[f(X)]^2 = E[f(X)^2] - 0 = E[f(X)^2]\n",
    "$$\n",
    "\n",
    "$$\n",
    "E[f(X)^2] = \\sum_{i=1}^{36} f(x_i)^2*P(x_i) = (-amt)^2(\\frac{1}{36})\\sum_{i \\neq k}^{35}1 + (36*amt)^2(\\frac{1}{36}) = \\frac{1261*amt^2}{36}\n",
    "$$\n",
    "\n",
    "How would change the variance if it were a roulette with 50 pockets? and 30? and $n$?\n",
    "\n",
    "---"
   ]
  },
  {
   "cell_type": "code",
   "execution_count": 2,
   "metadata": {},
   "outputs": [],
   "source": [
    "class FairRoulette:\n",
    "    \n",
    "    def __init__(self):\n",
    "        self.pockets = [i for i in range(1,37)]\n",
    "        self.pocketOdds = len(self.pockets) - 1\n",
    "    \n",
    "    def _spin(self):\n",
    "        return np.random.choice(self.pockets)\n",
    "    \n",
    "    def betPocket(self, pocket, amt):\n",
    "        self.ball = self._spin()\n",
    "        if str(pocket) == str(self.ball): \n",
    "            return amt*self.pocketOdds\n",
    "        else: \n",
    "            return -amt\n",
    "        \n",
    "    def playRoulette(self, numSpins, pocket, bet, toPrint):\n",
    "        \n",
    "        totPocket = 0\n",
    "        \n",
    "        for _ in range(numSpins):\n",
    "            totPocket += self.betPocket(pocket, bet)\n",
    "            \n",
    "        retorno = totPocket/numSpins\n",
    "        \n",
    "        if  toPrint:\n",
    "            print(numSpins, \"spins of\", self)\n",
    "            print(f\"Retorno: {retorno}\")\n",
    "            \n",
    "        return retorno\n",
    "    \n",
    "    def __str__(self):\n",
    "        return \"Fair Roulette\""
   ]
  },
  {
   "cell_type": "code",
   "execution_count": 26,
   "metadata": {},
   "outputs": [
    {
     "name": "stdout",
     "output_type": "stream",
     "text": [
      "CPU times: user 909 ms, sys: 0 ns, total: 909 ms\n",
      "Wall time: 909 ms\n"
     ]
    }
   ],
   "source": [
    "%%time\n",
    "game = FairRoulette()\n",
    "qtd_n = 10\n",
    "\n",
    "numSpins = [10,100,1000,10000]\n",
    "\n",
    "retornos = np.array([game.playRoulette(num, 25, 1, False) \n",
    "                     for _ in range(qtd_n)\n",
    "                     for num in numSpins\n",
    "                    ])\n",
    "\n",
    "data = retornos.reshape(qtd_n,-1)\n",
    "df   = pd.DataFrame(data, columns = numSpins)"
   ]
  },
  {
   "cell_type": "code",
   "execution_count": 27,
   "metadata": {},
   "outputs": [
    {
     "data": {
      "text/html": [
       "<div>\n",
       "<style scoped>\n",
       "    .dataframe tbody tr th:only-of-type {\n",
       "        vertical-align: middle;\n",
       "    }\n",
       "\n",
       "    .dataframe tbody tr th {\n",
       "        vertical-align: top;\n",
       "    }\n",
       "\n",
       "    .dataframe thead th {\n",
       "        text-align: right;\n",
       "    }\n",
       "</style>\n",
       "<table border=\"1\" class=\"dataframe\">\n",
       "  <thead>\n",
       "    <tr style=\"text-align: right;\">\n",
       "      <th></th>\n",
       "      <th>0</th>\n",
       "      <th>1</th>\n",
       "    </tr>\n",
       "  </thead>\n",
       "  <tbody>\n",
       "    <tr>\n",
       "      <th>10</th>\n",
       "      <td>0.80000</td>\n",
       "      <td>3.600000</td>\n",
       "    </tr>\n",
       "    <tr>\n",
       "      <th>100</th>\n",
       "      <td>0.11600</td>\n",
       "      <td>0.819360</td>\n",
       "    </tr>\n",
       "    <tr>\n",
       "      <th>1000</th>\n",
       "      <td>-0.07120</td>\n",
       "      <td>0.020678</td>\n",
       "    </tr>\n",
       "    <tr>\n",
       "      <th>10000</th>\n",
       "      <td>0.00188</td>\n",
       "      <td>0.003767</td>\n",
       "    </tr>\n",
       "  </tbody>\n",
       "</table>\n",
       "</div>"
      ],
      "text/plain": [
       "             0         1\n",
       "10     0.80000  3.600000\n",
       "100    0.11600  0.819360\n",
       "1000  -0.07120  0.020678\n",
       "10000  0.00188  0.003767"
      ]
     },
     "execution_count": 27,
     "metadata": {},
     "output_type": "execute_result"
    }
   ],
   "source": [
    "pd.concat([df.mean(), df.var()], axis=1)"
   ]
  },
  {
   "cell_type": "code",
   "execution_count": 28,
   "metadata": {},
   "outputs": [
    {
     "data": {
      "text/plain": [
       "10       0.80000\n",
       "100      0.11600\n",
       "1000    -0.07120\n",
       "10000    0.00188\n",
       "dtype: float64"
      ]
     },
     "execution_count": 28,
     "metadata": {},
     "output_type": "execute_result"
    }
   ],
   "source": [
    "df.mean()"
   ]
  },
  {
   "cell_type": "code",
   "execution_count": null,
   "metadata": {},
   "outputs": [],
   "source": []
  }
 ],
 "metadata": {
  "kernelspec": {
   "display_name": "venv_playground",
   "language": "python",
   "name": "venv_playground"
  },
  "language_info": {
   "codemirror_mode": {
    "name": "ipython",
    "version": 3
   },
   "file_extension": ".py",
   "mimetype": "text/x-python",
   "name": "python",
   "nbconvert_exporter": "python",
   "pygments_lexer": "ipython3",
   "version": "3.8.5"
  }
 },
 "nbformat": 4,
 "nbformat_minor": 4
}
