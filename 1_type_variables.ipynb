{
 "cells": [
  {
   "cell_type": "code",
   "execution_count": 1,
   "metadata": {},
   "outputs": [],
   "source": [
    "import pandas as pd\n",
    "\n",
    "from sklearn.datasets import load_diabetes, load_boston\n",
    "\n",
    "import seaborn as sns\n",
    "sns.set_palette(\"Set1\", 8, .75)\n",
    "import matplotlib.pyplot as plt\n",
    "\n",
    "from Utils import prepareData\n",
    "from Visualization import display_side_by_side"
   ]
  },
  {
   "cell_type": "markdown",
   "metadata": {
    "collapsed": "true"
   },
   "source": [
    "## **Type of variables**"
   ]
  },
  {
   "cell_type": "markdown",
   "metadata": {},
   "source": [
    "\\begin{array}{lcccl}\n",
    "\\hline \\text{Type of Variables}  & \\text{conveys } \\leq & \\text{conveys } = & \\text{Contains true zero} & \\text{Example}\\\\\\hline\n",
    "       \\text{Nominal or Categorical}               & No                   & No                & No  & \\text{Psychological Diagnoses, Personality Types}\\\\\n",
    "       \\text{Ordinal or Ranked}               & Yes                  & No                & No  & \\text{Finish places in a race}\\\\\n",
    "       \\text{Interval}              & Yes                  & Yes               & No  & \\text{Celsius, Intelligence Test (IQ)}\\\\\n",
    "       \\text{Ratio}                 & Yes                  & Yes               & Yes & \\text{Height, Weight}\\\\\n",
    "\\hline\n",
    "\\end{array}"
   ]
  },
  {
   "cell_type": "markdown",
   "metadata": {},
   "source": [
    "* **Nominal Variables**: Measurement scale in which numbers serve only as labels and do not indicate any quantitative relationship.\n",
    "\n",
    "* **Ordinal Variables**: Measurement scale in which numbers are ranks; equal differences between numbers do not represent equal differences between the things measured.\n",
    "\n",
    "* **Interval Variables**: Measurement scale in which equal differences between numbers represent equal differences in the thing measured. The zero point is arbitrarily defined.\n",
    "\n",
    "* **Ratio Variables**: Measurement scale with characteristics of interval scale, but it has a *true zero point*."
   ]
  },
  {
   "cell_type": "markdown",
   "metadata": {},
   "source": [
    "Difference between Interval and Ratio variables:\n",
    "\n",
    "- Convert $100 ^\\circ C$ and $50 ^\\circ C$ to Fahrenheit (F = 1.8C + 32) and suddenly the \"twice as much\" relationship disappears.\n",
    "- Convert 16 kilograms and 4 kilograms to pounds (1 kg = 2.2 lbs) and the \"four times heavier\" relationship is\n",
    "maintained.\n",
    "\n",
    "The difference is subtle. Therefore, those variables are referenced as ***continuos variables***."
   ]
  },
  {
   "cell_type": "markdown",
   "metadata": {
    "collapsed": "true"
   },
   "source": [
    "## **Visualization**"
   ]
  },
  {
   "cell_type": "code",
   "execution_count": 2,
   "metadata": {},
   "outputs": [],
   "source": [
    "#Ref: Statistical Abstract of the United States: 2013, 2012\n",
    "df = pd.read_csv(\"data/women_man_height.csv\")"
   ]
  },
  {
   "cell_type": "code",
   "execution_count": 3,
   "metadata": {},
   "outputs": [
    {
     "data": {
      "text/html": [
       "<div>\n",
       "<style scoped>\n",
       "    .dataframe tbody tr th:only-of-type {\n",
       "        vertical-align: middle;\n",
       "    }\n",
       "\n",
       "    .dataframe tbody tr th {\n",
       "        vertical-align: top;\n",
       "    }\n",
       "\n",
       "    .dataframe thead th {\n",
       "        text-align: right;\n",
       "    }\n",
       "</style>\n",
       "<table border=\"1\" class=\"dataframe\">\n",
       "  <thead>\n",
       "    <tr style=\"text-align: right;\">\n",
       "      <th></th>\n",
       "      <th>height-men</th>\n",
       "      <th>height-women</th>\n",
       "    </tr>\n",
       "  </thead>\n",
       "  <tbody>\n",
       "    <tr>\n",
       "      <th>0</th>\n",
       "      <td>72</td>\n",
       "      <td>68</td>\n",
       "    </tr>\n",
       "    <tr>\n",
       "      <th>1</th>\n",
       "      <td>69</td>\n",
       "      <td>66</td>\n",
       "    </tr>\n",
       "    <tr>\n",
       "      <th>2</th>\n",
       "      <td>77</td>\n",
       "      <td>60</td>\n",
       "    </tr>\n",
       "  </tbody>\n",
       "</table>\n",
       "</div>"
      ],
      "text/plain": [
       "   height-men  height-women\n",
       "0          72            68\n",
       "1          69            66\n",
       "2          77            60"
      ]
     },
     "execution_count": 3,
     "metadata": {},
     "output_type": "execute_result"
    }
   ],
   "source": [
    "df.head(3)"
   ]
  },
  {
   "cell_type": "markdown",
   "metadata": {},
   "source": [
    "Are men taller than women?"
   ]
  },
  {
   "cell_type": "code",
   "execution_count": 4,
   "metadata": {},
   "outputs": [
    {
     "data": {
      "text/html": [
       "                                                  <style  type=\"text/css\" >\n",
       "</style><table id=\"T_92d77d6c_6194_11eb_b466_b5df48071b6e\" style='display:inline'><caption>Man</caption><thead>    <tr>        <th class=\"blank level0\" ></th>        <th class=\"col_heading level0 col0\" >height</th>        <th class=\"col_heading level0 col1\" >count</th>    </tr></thead><tbody>\n",
       "                <tr>\n",
       "                        <th id=\"T_92d77d6c_6194_11eb_b466_b5df48071b6elevel0_row0\" class=\"row_heading level0 row0\" >0</th>\n",
       "                        <td id=\"T_92d77d6c_6194_11eb_b466_b5df48071b6erow0_col0\" class=\"data row0 col0\" >69</td>\n",
       "                        <td id=\"T_92d77d6c_6194_11eb_b466_b5df48071b6erow0_col1\" class=\"data row0 col1\" >8</td>\n",
       "            </tr>\n",
       "            <tr>\n",
       "                        <th id=\"T_92d77d6c_6194_11eb_b466_b5df48071b6elevel0_row1\" class=\"row_heading level0 row1\" >1</th>\n",
       "                        <td id=\"T_92d77d6c_6194_11eb_b466_b5df48071b6erow1_col0\" class=\"data row1 col0\" >72</td>\n",
       "                        <td id=\"T_92d77d6c_6194_11eb_b466_b5df48071b6erow1_col1\" class=\"data row1 col1\" >7</td>\n",
       "            </tr>\n",
       "            <tr>\n",
       "                        <th id=\"T_92d77d6c_6194_11eb_b466_b5df48071b6elevel0_row2\" class=\"row_heading level0 row2\" >2</th>\n",
       "                        <td id=\"T_92d77d6c_6194_11eb_b466_b5df48071b6erow2_col0\" class=\"data row2 col0\" >70</td>\n",
       "                        <td id=\"T_92d77d6c_6194_11eb_b466_b5df48071b6erow2_col1\" class=\"data row2 col1\" >7</td>\n",
       "            </tr>\n",
       "            <tr>\n",
       "                        <th id=\"T_92d77d6c_6194_11eb_b466_b5df48071b6elevel0_row3\" class=\"row_heading level0 row3\" >3</th>\n",
       "                        <td id=\"T_92d77d6c_6194_11eb_b466_b5df48071b6erow3_col0\" class=\"data row3 col0\" >71</td>\n",
       "                        <td id=\"T_92d77d6c_6194_11eb_b466_b5df48071b6erow3_col1\" class=\"data row3 col1\" >6</td>\n",
       "            </tr>\n",
       "            <tr>\n",
       "                        <th id=\"T_92d77d6c_6194_11eb_b466_b5df48071b6elevel0_row4\" class=\"row_heading level0 row4\" >4</th>\n",
       "                        <td id=\"T_92d77d6c_6194_11eb_b466_b5df48071b6erow4_col0\" class=\"data row4 col0\" >73</td>\n",
       "                        <td id=\"T_92d77d6c_6194_11eb_b466_b5df48071b6erow4_col1\" class=\"data row4 col1\" >4</td>\n",
       "            </tr>\n",
       "            <tr>\n",
       "                        <th id=\"T_92d77d6c_6194_11eb_b466_b5df48071b6elevel0_row5\" class=\"row_heading level0 row5\" >5</th>\n",
       "                        <td id=\"T_92d77d6c_6194_11eb_b466_b5df48071b6erow5_col0\" class=\"data row5 col0\" >68</td>\n",
       "                        <td id=\"T_92d77d6c_6194_11eb_b466_b5df48071b6erow5_col1\" class=\"data row5 col1\" >4</td>\n",
       "            </tr>\n",
       "            <tr>\n",
       "                        <th id=\"T_92d77d6c_6194_11eb_b466_b5df48071b6elevel0_row6\" class=\"row_heading level0 row6\" >6</th>\n",
       "                        <td id=\"T_92d77d6c_6194_11eb_b466_b5df48071b6erow6_col0\" class=\"data row6 col0\" >65</td>\n",
       "                        <td id=\"T_92d77d6c_6194_11eb_b466_b5df48071b6erow6_col1\" class=\"data row6 col1\" >3</td>\n",
       "            </tr>\n",
       "            <tr>\n",
       "                        <th id=\"T_92d77d6c_6194_11eb_b466_b5df48071b6elevel0_row7\" class=\"row_heading level0 row7\" >7</th>\n",
       "                        <td id=\"T_92d77d6c_6194_11eb_b466_b5df48071b6erow7_col0\" class=\"data row7 col0\" >75</td>\n",
       "                        <td id=\"T_92d77d6c_6194_11eb_b466_b5df48071b6erow7_col1\" class=\"data row7 col1\" >2</td>\n",
       "            </tr>\n",
       "            <tr>\n",
       "                        <th id=\"T_92d77d6c_6194_11eb_b466_b5df48071b6elevel0_row8\" class=\"row_heading level0 row8\" >8</th>\n",
       "                        <td id=\"T_92d77d6c_6194_11eb_b466_b5df48071b6erow8_col0\" class=\"data row8 col0\" >67</td>\n",
       "                        <td id=\"T_92d77d6c_6194_11eb_b466_b5df48071b6erow8_col1\" class=\"data row8 col1\" >2</td>\n",
       "            </tr>\n",
       "            <tr>\n",
       "                        <th id=\"T_92d77d6c_6194_11eb_b466_b5df48071b6elevel0_row9\" class=\"row_heading level0 row9\" >9</th>\n",
       "                        <td id=\"T_92d77d6c_6194_11eb_b466_b5df48071b6erow9_col0\" class=\"data row9 col0\" >66</td>\n",
       "                        <td id=\"T_92d77d6c_6194_11eb_b466_b5df48071b6erow9_col1\" class=\"data row9 col1\" >2</td>\n",
       "            </tr>\n",
       "            <tr>\n",
       "                        <th id=\"T_92d77d6c_6194_11eb_b466_b5df48071b6elevel0_row10\" class=\"row_heading level0 row10\" >10</th>\n",
       "                        <td id=\"T_92d77d6c_6194_11eb_b466_b5df48071b6erow10_col0\" class=\"data row10 col0\" >62</td>\n",
       "                        <td id=\"T_92d77d6c_6194_11eb_b466_b5df48071b6erow10_col1\" class=\"data row10 col1\" >1</td>\n",
       "            </tr>\n",
       "            <tr>\n",
       "                        <th id=\"T_92d77d6c_6194_11eb_b466_b5df48071b6elevel0_row11\" class=\"row_heading level0 row11\" >11</th>\n",
       "                        <td id=\"T_92d77d6c_6194_11eb_b466_b5df48071b6erow11_col0\" class=\"data row11 col0\" >77</td>\n",
       "                        <td id=\"T_92d77d6c_6194_11eb_b466_b5df48071b6erow11_col1\" class=\"data row11 col1\" >1</td>\n",
       "            </tr>\n",
       "            <tr>\n",
       "                        <th id=\"T_92d77d6c_6194_11eb_b466_b5df48071b6elevel0_row12\" class=\"row_heading level0 row12\" >12</th>\n",
       "                        <td id=\"T_92d77d6c_6194_11eb_b466_b5df48071b6erow12_col0\" class=\"data row12 col0\" >76</td>\n",
       "                        <td id=\"T_92d77d6c_6194_11eb_b466_b5df48071b6erow12_col1\" class=\"data row12 col1\" >1</td>\n",
       "            </tr>\n",
       "            <tr>\n",
       "                        <th id=\"T_92d77d6c_6194_11eb_b466_b5df48071b6elevel0_row13\" class=\"row_heading level0 row13\" >13</th>\n",
       "                        <td id=\"T_92d77d6c_6194_11eb_b466_b5df48071b6erow13_col0\" class=\"data row13 col0\" >74</td>\n",
       "                        <td id=\"T_92d77d6c_6194_11eb_b466_b5df48071b6erow13_col1\" class=\"data row13 col1\" >1</td>\n",
       "            </tr>\n",
       "            <tr>\n",
       "                        <th id=\"T_92d77d6c_6194_11eb_b466_b5df48071b6elevel0_row14\" class=\"row_heading level0 row14\" >14</th>\n",
       "                        <td id=\"T_92d77d6c_6194_11eb_b466_b5df48071b6erow14_col0\" class=\"data row14 col0\" >64</td>\n",
       "                        <td id=\"T_92d77d6c_6194_11eb_b466_b5df48071b6erow14_col1\" class=\"data row14 col1\" >1</td>\n",
       "            </tr>\n",
       "    </tbody></table>                              <style  type=\"text/css\" >\n",
       "</style><table id=\"T_92d77d6d_6194_11eb_b466_b5df48071b6e\" style='display:inline'><caption>Women</caption><thead>    <tr>        <th class=\"blank level0\" ></th>        <th class=\"col_heading level0 col0\" >height</th>        <th class=\"col_heading level0 col1\" >count</th>    </tr></thead><tbody>\n",
       "                <tr>\n",
       "                        <th id=\"T_92d77d6d_6194_11eb_b466_b5df48071b6elevel0_row0\" class=\"row_heading level0 row0\" >0</th>\n",
       "                        <td id=\"T_92d77d6d_6194_11eb_b466_b5df48071b6erow0_col0\" class=\"data row0 col0\" >65</td>\n",
       "                        <td id=\"T_92d77d6d_6194_11eb_b466_b5df48071b6erow0_col1\" class=\"data row0 col1\" >9</td>\n",
       "            </tr>\n",
       "            <tr>\n",
       "                        <th id=\"T_92d77d6d_6194_11eb_b466_b5df48071b6elevel0_row1\" class=\"row_heading level0 row1\" >1</th>\n",
       "                        <td id=\"T_92d77d6d_6194_11eb_b466_b5df48071b6erow1_col0\" class=\"data row1 col0\" >64</td>\n",
       "                        <td id=\"T_92d77d6d_6194_11eb_b466_b5df48071b6erow1_col1\" class=\"data row1 col1\" >7</td>\n",
       "            </tr>\n",
       "            <tr>\n",
       "                        <th id=\"T_92d77d6d_6194_11eb_b466_b5df48071b6elevel0_row2\" class=\"row_heading level0 row2\" >2</th>\n",
       "                        <td id=\"T_92d77d6d_6194_11eb_b466_b5df48071b6erow2_col0\" class=\"data row2 col0\" >63</td>\n",
       "                        <td id=\"T_92d77d6d_6194_11eb_b466_b5df48071b6erow2_col1\" class=\"data row2 col1\" >6</td>\n",
       "            </tr>\n",
       "            <tr>\n",
       "                        <th id=\"T_92d77d6d_6194_11eb_b466_b5df48071b6elevel0_row3\" class=\"row_heading level0 row3\" >3</th>\n",
       "                        <td id=\"T_92d77d6d_6194_11eb_b466_b5df48071b6erow3_col0\" class=\"data row3 col0\" >66</td>\n",
       "                        <td id=\"T_92d77d6d_6194_11eb_b466_b5df48071b6erow3_col1\" class=\"data row3 col1\" >6</td>\n",
       "            </tr>\n",
       "            <tr>\n",
       "                        <th id=\"T_92d77d6d_6194_11eb_b466_b5df48071b6elevel0_row4\" class=\"row_heading level0 row4\" >4</th>\n",
       "                        <td id=\"T_92d77d6d_6194_11eb_b466_b5df48071b6erow4_col0\" class=\"data row4 col0\" >67</td>\n",
       "                        <td id=\"T_92d77d6d_6194_11eb_b466_b5df48071b6erow4_col1\" class=\"data row4 col1\" >5</td>\n",
       "            </tr>\n",
       "            <tr>\n",
       "                        <th id=\"T_92d77d6d_6194_11eb_b466_b5df48071b6elevel0_row5\" class=\"row_heading level0 row5\" >5</th>\n",
       "                        <td id=\"T_92d77d6d_6194_11eb_b466_b5df48071b6erow5_col0\" class=\"data row5 col0\" >62</td>\n",
       "                        <td id=\"T_92d77d6d_6194_11eb_b466_b5df48071b6erow5_col1\" class=\"data row5 col1\" >4</td>\n",
       "            </tr>\n",
       "            <tr>\n",
       "                        <th id=\"T_92d77d6d_6194_11eb_b466_b5df48071b6elevel0_row6\" class=\"row_heading level0 row6\" >6</th>\n",
       "                        <td id=\"T_92d77d6d_6194_11eb_b466_b5df48071b6erow6_col0\" class=\"data row6 col0\" >69</td>\n",
       "                        <td id=\"T_92d77d6d_6194_11eb_b466_b5df48071b6erow6_col1\" class=\"data row6 col1\" >3</td>\n",
       "            </tr>\n",
       "            <tr>\n",
       "                        <th id=\"T_92d77d6d_6194_11eb_b466_b5df48071b6elevel0_row7\" class=\"row_heading level0 row7\" >7</th>\n",
       "                        <td id=\"T_92d77d6d_6194_11eb_b466_b5df48071b6erow7_col0\" class=\"data row7 col0\" >68</td>\n",
       "                        <td id=\"T_92d77d6d_6194_11eb_b466_b5df48071b6erow7_col1\" class=\"data row7 col1\" >3</td>\n",
       "            </tr>\n",
       "            <tr>\n",
       "                        <th id=\"T_92d77d6d_6194_11eb_b466_b5df48071b6elevel0_row8\" class=\"row_heading level0 row8\" >8</th>\n",
       "                        <td id=\"T_92d77d6d_6194_11eb_b466_b5df48071b6erow8_col0\" class=\"data row8 col0\" >60</td>\n",
       "                        <td id=\"T_92d77d6d_6194_11eb_b466_b5df48071b6erow8_col1\" class=\"data row8 col1\" >2</td>\n",
       "            </tr>\n",
       "            <tr>\n",
       "                        <th id=\"T_92d77d6d_6194_11eb_b466_b5df48071b6elevel0_row9\" class=\"row_heading level0 row9\" >9</th>\n",
       "                        <td id=\"T_92d77d6d_6194_11eb_b466_b5df48071b6erow9_col0\" class=\"data row9 col0\" >71</td>\n",
       "                        <td id=\"T_92d77d6d_6194_11eb_b466_b5df48071b6erow9_col1\" class=\"data row9 col1\" >2</td>\n",
       "            </tr>\n",
       "            <tr>\n",
       "                        <th id=\"T_92d77d6d_6194_11eb_b466_b5df48071b6elevel0_row10\" class=\"row_heading level0 row10\" >10</th>\n",
       "                        <td id=\"T_92d77d6d_6194_11eb_b466_b5df48071b6erow10_col0\" class=\"data row10 col0\" >61</td>\n",
       "                        <td id=\"T_92d77d6d_6194_11eb_b466_b5df48071b6erow10_col1\" class=\"data row10 col1\" >1</td>\n",
       "            </tr>\n",
       "            <tr>\n",
       "                        <th id=\"T_92d77d6d_6194_11eb_b466_b5df48071b6elevel0_row11\" class=\"row_heading level0 row11\" >11</th>\n",
       "                        <td id=\"T_92d77d6d_6194_11eb_b466_b5df48071b6erow11_col0\" class=\"data row11 col0\" >59</td>\n",
       "                        <td id=\"T_92d77d6d_6194_11eb_b466_b5df48071b6erow11_col1\" class=\"data row11 col1\" >1</td>\n",
       "            </tr>\n",
       "            <tr>\n",
       "                        <th id=\"T_92d77d6d_6194_11eb_b466_b5df48071b6elevel0_row12\" class=\"row_heading level0 row12\" >12</th>\n",
       "                        <td id=\"T_92d77d6d_6194_11eb_b466_b5df48071b6erow12_col0\" class=\"data row12 col0\" >72</td>\n",
       "                        <td id=\"T_92d77d6d_6194_11eb_b466_b5df48071b6erow12_col1\" class=\"data row12 col1\" >1</td>\n",
       "            </tr>\n",
       "    </tbody></table>                              "
      ],
      "text/plain": [
       "<IPython.core.display.HTML object>"
      ]
     },
     "metadata": {},
     "output_type": "display_data"
    }
   ],
   "source": [
    "#Simple frequency distribution\n",
    "\n",
    "get_freq_dist = lambda ser: ser.value_counts().reset_index(name=\"count\").rename(columns = {\"index\":\"height\"})\n",
    "men   = get_freq_dist(df[\"height-men\"])\n",
    "women = get_freq_dist(df[\"height-women\"])\n",
    "\n",
    "display_side_by_side([men, women], [\"Man\", \"Women\"], space=(50,30))"
   ]
  },
  {
   "cell_type": "markdown",
   "metadata": {},
   "source": [
    "### **Graphs of Frequency Distributions**"
   ]
  },
  {
   "cell_type": "markdown",
   "metadata": {
    "collapsed": "true"
   },
   "source": [
    "#### **Histogram**"
   ]
  },
  {
   "cell_type": "markdown",
   "metadata": {},
   "source": [
    "* Used to present the frequencies of continuous variables.\n",
    "\n",
    "* There is no \"best\" number of bins, and different bin sizes can reveal different features of the data.\n",
    "\n",
    "* A common choice of bin size is given by this rules of thumb $ k=\\lceil \\sqrt n \\text{ } \\rceil$, where $n$ is the number of data points (Excel). There are many ways to calculate the number of bins https://en.wikipedia.org/wiki/Histogram#Number_of_bins_and_width.\n",
    "\n"
   ]
  },
  {
   "cell_type": "markdown",
   "metadata": {
    "collapsed": "true"
   },
   "source": [
    "##### **Equally spaced bins**"
   ]
  },
  {
   "cell_type": "code",
   "execution_count": 5,
   "metadata": {},
   "outputs": [],
   "source": [
    "aux = pd.wide_to_long(df.reset_index(), \n",
    "                      stubnames='height', \n",
    "                      i='index', \n",
    "                      j='sex', \n",
    "                      sep='-', \n",
    "                      suffix=r'\\w+').reset_index(level=1)"
   ]
  },
  {
   "cell_type": "code",
   "execution_count": 6,
   "metadata": {},
   "outputs": [
    {
     "data": {
      "image/png": "[encoded data removed]",
      "text/plain": [
       "<Figure size 1080x288 with 2 Axes>"
      ]
     },
     "metadata": {
      "needs_background": "light"
     },
     "output_type": "display_data"
    }
   ],
   "source": [
    "fig, axs = plt.subplots(1,2,sharey=True,figsize=(15,4))\n",
    "\n",
    "qtd_bin = 10\n",
    "\n",
    "heights = aux[\"height\"].unique()\n",
    "ax1  = sns.countplot(data=aux, x=\"height\", hue=\"sex\", \n",
    "                     edgecolor=\"black\", alpha=0.7, ax = axs[0],)\n",
    "ax2 = sns.histplot(data=aux, x=\"height\", hue=\"sex\", \n",
    "                   bins=qtd_bin, stat = \"count\", ax = axs[1],)\n",
    "\n",
    "ax1.set_title(\"Simple Count\")\n",
    "ax2.set_title(\"Grouped Count\")\n",
    "\n",
    "plt.tight_layout()\n",
    "plt.show()"
   ]
  },
  {
   "cell_type": "code",
   "execution_count": 7,
   "metadata": {},
   "outputs": [
    {
     "data": {
      "text/plain": [
       "[59.0, 60.8, 62.6, 64.4, 66.2, 68.0, 69.8, 71.6, 73.4, 75.2]"
      ]
     },
     "execution_count": 7,
     "metadata": {},
     "output_type": "execute_result"
    }
   ],
   "source": [
    "calc_bins = aux[\"height\"].agg([\"max\",\"min\"])\n",
    "bin_range = calc_bins.loc[\"max\"] - calc_bins.loc[\"min\"]\n",
    "bin_step  = bin_range/qtd_bin\n",
    "bins_position = [calc_bins.loc[\"min\"] + bin_step*i for i in range(qtd_bin)]\n",
    "bins_position"
   ]
  },
  {
   "cell_type": "markdown",
   "metadata": {
    "collapsed": "true"
   },
   "source": [
    "##### **Variable bin widths**"
   ]
  },
  {
   "cell_type": "code",
   "execution_count": 8,
   "metadata": {},
   "outputs": [
    {
     "data": {
      "image/png": "[encoded data removed]",
      "text/plain": [
       "<Figure size 1440x432 with 2 Axes>"
      ]
     },
     "metadata": {
      "needs_background": "light"
     },
     "output_type": "display_data"
    }
   ],
   "source": [
    "fig, axs = plt.subplots(1,2,figsize=(20,6))\n",
    "\n",
    "diff_heights_size = len(aux[\"height\"].unique())\n",
    "ax1  = sns.histplot(data=aux, x=\"height\", hue=\"sex\", \n",
    "                    binwidth=1, stat = \"count\", ax = axs[0],)\n",
    "ax2 = sns.histplot(data=aux, x=\"height\", hue=\"sex\", \n",
    "                   binwidth=15, stat = \"count\", ax = axs[1],)\n",
    "\n",
    "plt.tight_layout()\n",
    "plt.show()"
   ]
  },
  {
   "cell_type": "markdown",
   "metadata": {
    "collapsed": "true"
   },
   "source": [
    "#### **Cumulative Distribution**"
   ]
  },
  {
   "cell_type": "code",
   "execution_count": null,
   "metadata": {},
   "outputs": [],
   "source": []
  },
  {
   "cell_type": "markdown",
   "metadata": {},
   "source": [
    "#### **Bar Graph**"
   ]
  },
  {
   "cell_type": "markdown",
   "metadata": {},
   "source": [
    "* Used to present the frequencies of categorical and discrete variables."
   ]
  },
  {
   "cell_type": "code",
   "execution_count": null,
   "metadata": {},
   "outputs": [],
   "source": []
  }
 ],
 "metadata": {
  "kernelspec": {
   "display_name": "venv_playground",
   "language": "python",
   "name": "venv_playground"
  },
  "language_info": {
   "codemirror_mode": {
    "name": "ipython",
    "version": 3
   },
   "file_extension": ".py",
   "mimetype": "text/x-python",
   "name": "python",
   "nbconvert_exporter": "python",
   "pygments_lexer": "ipython3",
   "version": "3.8.5"
  }
 },
 "nbformat": 4,
 "nbformat_minor": 4
}
